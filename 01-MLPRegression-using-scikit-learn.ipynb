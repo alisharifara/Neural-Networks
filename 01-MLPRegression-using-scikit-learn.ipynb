{
 "cells": [
  {
   "cell_type": "code",
   "execution_count": 47,
   "metadata": {},
   "outputs": [],
   "source": [
    "import sklearn\n",
    "\n",
    "import pandas as pd\n",
    "import numpy as np\n",
    "import seaborn as sns\n",
    "import matplotlib.pyplot as plt\n",
    "\n",
    "\n",
    "from sklearn.model_selection import train_test_split\n",
    "from sklearn.preprocessing import StandardScaler\n",
    "from sklearn.neural_network import MLPRegressor\n",
    "from sklearn.metrics import r2_score"
   ]
  },
  {
   "cell_type": "code",
   "execution_count": 3,
   "metadata": {},
   "outputs": [],
   "source": [
    "diet_data = pd.read_csv('datasets/diet_data.csv')"
   ]
  },
  {
   "cell_type": "code",
   "execution_count": 8,
   "metadata": {},
   "outputs": [
    {
     "data": {
      "text/plain": [
       "(151, 14)"
      ]
     },
     "execution_count": 8,
     "metadata": {},
     "output_type": "execute_result"
    }
   ],
   "source": [
    "diet_data.shape"
   ]
  },
  {
   "cell_type": "code",
   "execution_count": 4,
   "metadata": {},
   "outputs": [
    {
     "data": {
      "text/html": [
       "<div>\n",
       "<style scoped>\n",
       "    .dataframe tbody tr th:only-of-type {\n",
       "        vertical-align: middle;\n",
       "    }\n",
       "\n",
       "    .dataframe tbody tr th {\n",
       "        vertical-align: top;\n",
       "    }\n",
       "\n",
       "    .dataframe thead th {\n",
       "        text-align: right;\n",
       "    }\n",
       "</style>\n",
       "<table border=\"1\" class=\"dataframe\">\n",
       "  <thead>\n",
       "    <tr style=\"text-align: right;\">\n",
       "      <th></th>\n",
       "      <th>Date</th>\n",
       "      <th>Stone</th>\n",
       "      <th>Pounds</th>\n",
       "      <th>Ounces</th>\n",
       "      <th>weight_oz</th>\n",
       "      <th>calories</th>\n",
       "      <th>cals_per_oz</th>\n",
       "      <th>five_donuts</th>\n",
       "      <th>walk</th>\n",
       "      <th>run</th>\n",
       "      <th>wine</th>\n",
       "      <th>prot</th>\n",
       "      <th>weight</th>\n",
       "      <th>change</th>\n",
       "    </tr>\n",
       "  </thead>\n",
       "  <tbody>\n",
       "    <tr>\n",
       "      <th>0</th>\n",
       "      <td>7/30/2018</td>\n",
       "      <td>12.0</td>\n",
       "      <td>2.0</td>\n",
       "      <td>6.0</td>\n",
       "      <td>2726.0</td>\n",
       "      <td>1950.0</td>\n",
       "      <td>0.72</td>\n",
       "      <td>1.0</td>\n",
       "      <td>1.0</td>\n",
       "      <td>0.0</td>\n",
       "      <td>0.0</td>\n",
       "      <td>0.0</td>\n",
       "      <td>0.0</td>\n",
       "      <td>-30.0</td>\n",
       "    </tr>\n",
       "    <tr>\n",
       "      <th>1</th>\n",
       "      <td>7/31/2018</td>\n",
       "      <td>12.0</td>\n",
       "      <td>0.0</td>\n",
       "      <td>8.0</td>\n",
       "      <td>2696.0</td>\n",
       "      <td>2600.0</td>\n",
       "      <td>0.96</td>\n",
       "      <td>1.0</td>\n",
       "      <td>0.0</td>\n",
       "      <td>0.0</td>\n",
       "      <td>0.0</td>\n",
       "      <td>0.0</td>\n",
       "      <td>0.0</td>\n",
       "      <td>8.0</td>\n",
       "    </tr>\n",
       "    <tr>\n",
       "      <th>2</th>\n",
       "      <td>8/1/2018</td>\n",
       "      <td>12.0</td>\n",
       "      <td>1.0</td>\n",
       "      <td>0.0</td>\n",
       "      <td>2704.0</td>\n",
       "      <td>2500.0</td>\n",
       "      <td>0.92</td>\n",
       "      <td>1.0</td>\n",
       "      <td>1.0</td>\n",
       "      <td>0.0</td>\n",
       "      <td>0.0</td>\n",
       "      <td>0.0</td>\n",
       "      <td>0.0</td>\n",
       "      <td>0.0</td>\n",
       "    </tr>\n",
       "    <tr>\n",
       "      <th>3</th>\n",
       "      <td>8/2/2018</td>\n",
       "      <td>12.0</td>\n",
       "      <td>1.0</td>\n",
       "      <td>0.0</td>\n",
       "      <td>2704.0</td>\n",
       "      <td>1850.0</td>\n",
       "      <td>0.68</td>\n",
       "      <td>1.0</td>\n",
       "      <td>1.0</td>\n",
       "      <td>0.0</td>\n",
       "      <td>1.0</td>\n",
       "      <td>0.0</td>\n",
       "      <td>0.0</td>\n",
       "      <td>-40.0</td>\n",
       "    </tr>\n",
       "    <tr>\n",
       "      <th>4</th>\n",
       "      <td>8/3/2018</td>\n",
       "      <td>11.0</td>\n",
       "      <td>12.0</td>\n",
       "      <td>8.0</td>\n",
       "      <td>2664.0</td>\n",
       "      <td>2900.0</td>\n",
       "      <td>1.09</td>\n",
       "      <td>1.0</td>\n",
       "      <td>1.0</td>\n",
       "      <td>0.0</td>\n",
       "      <td>0.0</td>\n",
       "      <td>0.0</td>\n",
       "      <td>0.0</td>\n",
       "      <td>14.0</td>\n",
       "    </tr>\n",
       "  </tbody>\n",
       "</table>\n",
       "</div>"
      ],
      "text/plain": [
       "        Date  Stone  Pounds  Ounces  weight_oz  calories cals_per_oz  \\\n",
       "0  7/30/2018   12.0     2.0     6.0     2726.0    1950.0        0.72   \n",
       "1  7/31/2018   12.0     0.0     8.0     2696.0    2600.0        0.96   \n",
       "2   8/1/2018   12.0     1.0     0.0     2704.0    2500.0        0.92   \n",
       "3   8/2/2018   12.0     1.0     0.0     2704.0    1850.0        0.68   \n",
       "4   8/3/2018   11.0    12.0     8.0     2664.0    2900.0        1.09   \n",
       "\n",
       "   five_donuts  walk  run  wine  prot  weight  change  \n",
       "0          1.0   1.0  0.0   0.0   0.0     0.0   -30.0  \n",
       "1          1.0   0.0  0.0   0.0   0.0     0.0     8.0  \n",
       "2          1.0   1.0  0.0   0.0   0.0     0.0     0.0  \n",
       "3          1.0   1.0  0.0   1.0   0.0     0.0   -40.0  \n",
       "4          1.0   1.0  0.0   0.0   0.0     0.0    14.0  "
      ]
     },
     "execution_count": 4,
     "metadata": {},
     "output_type": "execute_result"
    }
   ],
   "source": [
    "diet_data.head()"
   ]
  },
  {
   "cell_type": "code",
   "execution_count": 6,
   "metadata": {},
   "outputs": [],
   "source": [
    "#shuffle data\n",
    "diet_data = diet_data.sample(frac=1).reset_index(drop=True)"
   ]
  },
  {
   "cell_type": "code",
   "execution_count": 7,
   "metadata": {},
   "outputs": [
    {
     "data": {
      "text/html": [
       "<div>\n",
       "<style scoped>\n",
       "    .dataframe tbody tr th:only-of-type {\n",
       "        vertical-align: middle;\n",
       "    }\n",
       "\n",
       "    .dataframe tbody tr th {\n",
       "        vertical-align: top;\n",
       "    }\n",
       "\n",
       "    .dataframe thead th {\n",
       "        text-align: right;\n",
       "    }\n",
       "</style>\n",
       "<table border=\"1\" class=\"dataframe\">\n",
       "  <thead>\n",
       "    <tr style=\"text-align: right;\">\n",
       "      <th></th>\n",
       "      <th>Date</th>\n",
       "      <th>Stone</th>\n",
       "      <th>Pounds</th>\n",
       "      <th>Ounces</th>\n",
       "      <th>weight_oz</th>\n",
       "      <th>calories</th>\n",
       "      <th>cals_per_oz</th>\n",
       "      <th>five_donuts</th>\n",
       "      <th>walk</th>\n",
       "      <th>run</th>\n",
       "      <th>wine</th>\n",
       "      <th>prot</th>\n",
       "      <th>weight</th>\n",
       "      <th>change</th>\n",
       "    </tr>\n",
       "  </thead>\n",
       "  <tbody>\n",
       "    <tr>\n",
       "      <th>0</th>\n",
       "      <td>12/13/2018</td>\n",
       "      <td>11.0</td>\n",
       "      <td>12.0</td>\n",
       "      <td>2.0</td>\n",
       "      <td>2658.0</td>\n",
       "      <td>2100.0</td>\n",
       "      <td>0.79</td>\n",
       "      <td>0.0</td>\n",
       "      <td>1.0</td>\n",
       "      <td>0.0</td>\n",
       "      <td>0.0</td>\n",
       "      <td>0.0</td>\n",
       "      <td>0.0</td>\n",
       "      <td>-10.0</td>\n",
       "    </tr>\n",
       "    <tr>\n",
       "      <th>1</th>\n",
       "      <td>11/25/2018</td>\n",
       "      <td>12.0</td>\n",
       "      <td>1.0</td>\n",
       "      <td>2.0</td>\n",
       "      <td>2706.0</td>\n",
       "      <td>6400.0</td>\n",
       "      <td>2.37</td>\n",
       "      <td>0.0</td>\n",
       "      <td>0.0</td>\n",
       "      <td>0.0</td>\n",
       "      <td>1.0</td>\n",
       "      <td>0.0</td>\n",
       "      <td>0.0</td>\n",
       "      <td>20.0</td>\n",
       "    </tr>\n",
       "    <tr>\n",
       "      <th>2</th>\n",
       "      <td>11/17/2018</td>\n",
       "      <td>12.0</td>\n",
       "      <td>0.0</td>\n",
       "      <td>4.0</td>\n",
       "      <td>2692.0</td>\n",
       "      <td>6200.0</td>\n",
       "      <td>2.30</td>\n",
       "      <td>0.0</td>\n",
       "      <td>0.0</td>\n",
       "      <td>1.0</td>\n",
       "      <td>1.0</td>\n",
       "      <td>0.0</td>\n",
       "      <td>1.0</td>\n",
       "      <td>12.0</td>\n",
       "    </tr>\n",
       "    <tr>\n",
       "      <th>3</th>\n",
       "      <td>11/9/2018</td>\n",
       "      <td>12.0</td>\n",
       "      <td>0.0</td>\n",
       "      <td>6.0</td>\n",
       "      <td>2694.0</td>\n",
       "      <td>3700.0</td>\n",
       "      <td>1.37</td>\n",
       "      <td>0.0</td>\n",
       "      <td>1.0</td>\n",
       "      <td>1.0</td>\n",
       "      <td>1.0</td>\n",
       "      <td>0.0</td>\n",
       "      <td>1.0</td>\n",
       "      <td>-14.0</td>\n",
       "    </tr>\n",
       "    <tr>\n",
       "      <th>4</th>\n",
       "      <td>12/1/2018</td>\n",
       "      <td>12.0</td>\n",
       "      <td>0.0</td>\n",
       "      <td>2.0</td>\n",
       "      <td>2690.0</td>\n",
       "      <td>4700.0</td>\n",
       "      <td>1.75</td>\n",
       "      <td>0.0</td>\n",
       "      <td>0.0</td>\n",
       "      <td>0.0</td>\n",
       "      <td>1.0</td>\n",
       "      <td>0.0</td>\n",
       "      <td>1.0</td>\n",
       "      <td>20.0</td>\n",
       "    </tr>\n",
       "  </tbody>\n",
       "</table>\n",
       "</div>"
      ],
      "text/plain": [
       "         Date  Stone  Pounds  Ounces  weight_oz  calories cals_per_oz  \\\n",
       "0  12/13/2018   11.0    12.0     2.0     2658.0    2100.0        0.79   \n",
       "1  11/25/2018   12.0     1.0     2.0     2706.0    6400.0        2.37   \n",
       "2  11/17/2018   12.0     0.0     4.0     2692.0    6200.0        2.30   \n",
       "3   11/9/2018   12.0     0.0     6.0     2694.0    3700.0        1.37   \n",
       "4   12/1/2018   12.0     0.0     2.0     2690.0    4700.0        1.75   \n",
       "\n",
       "   five_donuts  walk  run  wine  prot  weight  change  \n",
       "0          0.0   1.0  0.0   0.0   0.0     0.0   -10.0  \n",
       "1          0.0   0.0  0.0   1.0   0.0     0.0    20.0  \n",
       "2          0.0   0.0  1.0   1.0   0.0     1.0    12.0  \n",
       "3          0.0   1.0  1.0   1.0   0.0     1.0   -14.0  \n",
       "4          0.0   0.0  0.0   1.0   0.0     1.0    20.0  "
      ]
     },
     "execution_count": 7,
     "metadata": {},
     "output_type": "execute_result"
    }
   ],
   "source": [
    "diet_data.head()"
   ]
  },
  {
   "cell_type": "code",
   "execution_count": 9,
   "metadata": {},
   "outputs": [
    {
     "data": {
      "text/plain": [
       "(151, 14)"
      ]
     },
     "execution_count": 9,
     "metadata": {},
     "output_type": "execute_result"
    }
   ],
   "source": [
    "diet_data.shape"
   ]
  },
  {
   "cell_type": "code",
   "execution_count": 13,
   "metadata": {},
   "outputs": [
    {
     "data": {
      "text/plain": [
       "Date           10\n",
       "Stone           2\n",
       "Pounds          2\n",
       "Ounces          2\n",
       "weight_oz       9\n",
       "calories        0\n",
       "cals_per_oz     7\n",
       "five_donuts     0\n",
       "walk            0\n",
       "run             0\n",
       "wine            0\n",
       "prot            0\n",
       "weight          0\n",
       "change          7\n",
       "dtype: int64"
      ]
     },
     "execution_count": 13,
     "metadata": {},
     "output_type": "execute_result"
    }
   ],
   "source": [
    "# To check if any field has null values\n",
    "diet_data[diet_data.isnull().any(axis=1)].count()"
   ]
  },
  {
   "cell_type": "code",
   "execution_count": 14,
   "metadata": {},
   "outputs": [],
   "source": [
    "# to drop all null values\n",
    "\n",
    "diet_data.dropna(inplace=True)"
   ]
  },
  {
   "cell_type": "code",
   "execution_count": 16,
   "metadata": {},
   "outputs": [
    {
     "data": {
      "text/plain": [
       "Date           0\n",
       "Stone          0\n",
       "Pounds         0\n",
       "Ounces         0\n",
       "weight_oz      0\n",
       "calories       0\n",
       "cals_per_oz    0\n",
       "five_donuts    0\n",
       "walk           0\n",
       "run            0\n",
       "wine           0\n",
       "prot           0\n",
       "weight         0\n",
       "change         0\n",
       "dtype: int64"
      ]
     },
     "execution_count": 16,
     "metadata": {},
     "output_type": "execute_result"
    }
   ],
   "source": [
    "# To check if any field has null values\n",
    "diet_data[diet_data.isnull().any(axis=1)].count()"
   ]
  },
  {
   "cell_type": "code",
   "execution_count": 17,
   "metadata": {},
   "outputs": [
    {
     "data": {
      "text/plain": [
       "(140, 14)"
      ]
     },
     "execution_count": 17,
     "metadata": {},
     "output_type": "execute_result"
    }
   ],
   "source": [
    "diet_data.shape"
   ]
  },
  {
   "cell_type": "code",
   "execution_count": 18,
   "metadata": {},
   "outputs": [
    {
     "data": {
      "text/html": [
       "<div>\n",
       "<style scoped>\n",
       "    .dataframe tbody tr th:only-of-type {\n",
       "        vertical-align: middle;\n",
       "    }\n",
       "\n",
       "    .dataframe tbody tr th {\n",
       "        vertical-align: top;\n",
       "    }\n",
       "\n",
       "    .dataframe thead th {\n",
       "        text-align: right;\n",
       "    }\n",
       "</style>\n",
       "<table border=\"1\" class=\"dataframe\">\n",
       "  <thead>\n",
       "    <tr style=\"text-align: right;\">\n",
       "      <th></th>\n",
       "      <th>Stone</th>\n",
       "      <th>Pounds</th>\n",
       "      <th>Ounces</th>\n",
       "      <th>weight_oz</th>\n",
       "      <th>calories</th>\n",
       "      <th>five_donuts</th>\n",
       "      <th>walk</th>\n",
       "      <th>run</th>\n",
       "      <th>wine</th>\n",
       "      <th>prot</th>\n",
       "      <th>weight</th>\n",
       "      <th>change</th>\n",
       "    </tr>\n",
       "  </thead>\n",
       "  <tbody>\n",
       "    <tr>\n",
       "      <th>count</th>\n",
       "      <td>140.000000</td>\n",
       "      <td>140.000000</td>\n",
       "      <td>140.000000</td>\n",
       "      <td>140.000000</td>\n",
       "      <td>140.000000</td>\n",
       "      <td>140.000000</td>\n",
       "      <td>140.000000</td>\n",
       "      <td>140.000000</td>\n",
       "      <td>140.000000</td>\n",
       "      <td>140.000000</td>\n",
       "      <td>140.000000</td>\n",
       "      <td>140.000000</td>\n",
       "    </tr>\n",
       "    <tr>\n",
       "      <th>mean</th>\n",
       "      <td>11.542857</td>\n",
       "      <td>6.157143</td>\n",
       "      <td>3.585714</td>\n",
       "      <td>2687.700000</td>\n",
       "      <td>3180.714286</td>\n",
       "      <td>0.371429</td>\n",
       "      <td>0.678571</td>\n",
       "      <td>0.250000</td>\n",
       "      <td>0.307143</td>\n",
       "      <td>0.178571</td>\n",
       "      <td>0.442857</td>\n",
       "      <td>-1.485714</td>\n",
       "    </tr>\n",
       "    <tr>\n",
       "      <th>std</th>\n",
       "      <td>0.499949</td>\n",
       "      <td>5.664824</td>\n",
       "      <td>2.913589</td>\n",
       "      <td>28.663189</td>\n",
       "      <td>1478.753433</td>\n",
       "      <td>0.484922</td>\n",
       "      <td>0.468702</td>\n",
       "      <td>0.434568</td>\n",
       "      <td>0.462966</td>\n",
       "      <td>0.384368</td>\n",
       "      <td>0.498508</td>\n",
       "      <td>25.098793</td>\n",
       "    </tr>\n",
       "    <tr>\n",
       "      <th>min</th>\n",
       "      <td>11.000000</td>\n",
       "      <td>0.000000</td>\n",
       "      <td>0.000000</td>\n",
       "      <td>2628.000000</td>\n",
       "      <td>1400.000000</td>\n",
       "      <td>0.000000</td>\n",
       "      <td>0.000000</td>\n",
       "      <td>0.000000</td>\n",
       "      <td>0.000000</td>\n",
       "      <td>0.000000</td>\n",
       "      <td>0.000000</td>\n",
       "      <td>-58.000000</td>\n",
       "    </tr>\n",
       "    <tr>\n",
       "      <th>25%</th>\n",
       "      <td>11.000000</td>\n",
       "      <td>1.000000</td>\n",
       "      <td>0.000000</td>\n",
       "      <td>2670.000000</td>\n",
       "      <td>2187.500000</td>\n",
       "      <td>0.000000</td>\n",
       "      <td>0.000000</td>\n",
       "      <td>0.000000</td>\n",
       "      <td>0.000000</td>\n",
       "      <td>0.000000</td>\n",
       "      <td>0.000000</td>\n",
       "      <td>-18.000000</td>\n",
       "    </tr>\n",
       "    <tr>\n",
       "      <th>50%</th>\n",
       "      <td>12.000000</td>\n",
       "      <td>3.000000</td>\n",
       "      <td>4.000000</td>\n",
       "      <td>2689.000000</td>\n",
       "      <td>2575.000000</td>\n",
       "      <td>0.000000</td>\n",
       "      <td>1.000000</td>\n",
       "      <td>0.000000</td>\n",
       "      <td>0.000000</td>\n",
       "      <td>0.000000</td>\n",
       "      <td>0.000000</td>\n",
       "      <td>-3.000000</td>\n",
       "    </tr>\n",
       "    <tr>\n",
       "      <th>75%</th>\n",
       "      <td>12.000000</td>\n",
       "      <td>12.000000</td>\n",
       "      <td>6.000000</td>\n",
       "      <td>2704.000000</td>\n",
       "      <td>3850.000000</td>\n",
       "      <td>1.000000</td>\n",
       "      <td>1.000000</td>\n",
       "      <td>0.250000</td>\n",
       "      <td>1.000000</td>\n",
       "      <td>0.000000</td>\n",
       "      <td>1.000000</td>\n",
       "      <td>16.000000</td>\n",
       "    </tr>\n",
       "    <tr>\n",
       "      <th>max</th>\n",
       "      <td>12.000000</td>\n",
       "      <td>13.000000</td>\n",
       "      <td>8.000000</td>\n",
       "      <td>2768.000000</td>\n",
       "      <td>9150.000000</td>\n",
       "      <td>1.000000</td>\n",
       "      <td>1.000000</td>\n",
       "      <td>1.000000</td>\n",
       "      <td>1.000000</td>\n",
       "      <td>1.000000</td>\n",
       "      <td>1.000000</td>\n",
       "      <td>102.000000</td>\n",
       "    </tr>\n",
       "  </tbody>\n",
       "</table>\n",
       "</div>"
      ],
      "text/plain": [
       "            Stone      Pounds      Ounces    weight_oz     calories  \\\n",
       "count  140.000000  140.000000  140.000000   140.000000   140.000000   \n",
       "mean    11.542857    6.157143    3.585714  2687.700000  3180.714286   \n",
       "std      0.499949    5.664824    2.913589    28.663189  1478.753433   \n",
       "min     11.000000    0.000000    0.000000  2628.000000  1400.000000   \n",
       "25%     11.000000    1.000000    0.000000  2670.000000  2187.500000   \n",
       "50%     12.000000    3.000000    4.000000  2689.000000  2575.000000   \n",
       "75%     12.000000   12.000000    6.000000  2704.000000  3850.000000   \n",
       "max     12.000000   13.000000    8.000000  2768.000000  9150.000000   \n",
       "\n",
       "       five_donuts        walk         run        wine        prot  \\\n",
       "count   140.000000  140.000000  140.000000  140.000000  140.000000   \n",
       "mean      0.371429    0.678571    0.250000    0.307143    0.178571   \n",
       "std       0.484922    0.468702    0.434568    0.462966    0.384368   \n",
       "min       0.000000    0.000000    0.000000    0.000000    0.000000   \n",
       "25%       0.000000    0.000000    0.000000    0.000000    0.000000   \n",
       "50%       0.000000    1.000000    0.000000    0.000000    0.000000   \n",
       "75%       1.000000    1.000000    0.250000    1.000000    0.000000   \n",
       "max       1.000000    1.000000    1.000000    1.000000    1.000000   \n",
       "\n",
       "           weight      change  \n",
       "count  140.000000  140.000000  \n",
       "mean     0.442857   -1.485714  \n",
       "std      0.498508   25.098793  \n",
       "min      0.000000  -58.000000  \n",
       "25%      0.000000  -18.000000  \n",
       "50%      0.000000   -3.000000  \n",
       "75%      1.000000   16.000000  \n",
       "max      1.000000  102.000000  "
      ]
     },
     "execution_count": 18,
     "metadata": {},
     "output_type": "execute_result"
    }
   ],
   "source": [
    "diet_data.describe()"
   ]
  },
  {
   "cell_type": "code",
   "execution_count": 22,
   "metadata": {},
   "outputs": [
    {
     "data": {
      "image/png": "[encoded data removed]",
      "text/plain": [
       "<Figure size 720x576 with 1 Axes>"
      ]
     },
     "metadata": {
      "needs_background": "light"
     },
     "output_type": "display_data"
    }
   ],
   "source": [
    "# to check the relationship between Calories and Change in weight\n",
    "\n",
    "fig, ax = plt.subplots(figsize=(10,8))\n",
    "\n",
    "plt.scatter(diet_data['calories'], diet_data['change'])\n",
    "\n",
    "plt.xlabel('Calories')\n",
    "plt.ylabel('Change in weight')\n",
    "\n",
    "plt.show()\n",
    "# the below scatter plot shows that there is a linear relationship between these two variables"
   ]
  },
  {
   "cell_type": "code",
   "execution_count": 26,
   "metadata": {},
   "outputs": [
    {
     "data": {
      "image/png": "[encoded data removed]",
      "text/plain": [
       "<Figure size 720x576 with 1 Axes>"
      ]
     },
     "metadata": {
      "needs_background": "light"
     },
     "output_type": "display_data"
    }
   ],
   "source": [
    "# to check the relationship between Wine and Change in weight\n",
    "# wine here is categorical data (0,1)\n",
    "\n",
    "fig, ax = plt.subplots(figsize=(10,8))\n",
    "\n",
    "plt.scatter(diet_data['wine'], diet_data['change'])\n",
    "\n",
    "plt.xlabel('Wine')\n",
    "plt.ylabel('Change in weight')\n",
    "\n",
    "plt.show()"
   ]
  },
  {
   "cell_type": "code",
   "execution_count": 28,
   "metadata": {},
   "outputs": [
    {
     "data": {
      "text/html": [
       "<div>\n",
       "<style scoped>\n",
       "    .dataframe tbody tr th:only-of-type {\n",
       "        vertical-align: middle;\n",
       "    }\n",
       "\n",
       "    .dataframe tbody tr th {\n",
       "        vertical-align: top;\n",
       "    }\n",
       "\n",
       "    .dataframe thead th {\n",
       "        text-align: right;\n",
       "    }\n",
       "</style>\n",
       "<table border=\"1\" class=\"dataframe\">\n",
       "  <thead>\n",
       "    <tr style=\"text-align: right;\">\n",
       "      <th></th>\n",
       "      <th>Stone</th>\n",
       "      <th>Pounds</th>\n",
       "      <th>Ounces</th>\n",
       "      <th>weight_oz</th>\n",
       "      <th>calories</th>\n",
       "      <th>five_donuts</th>\n",
       "      <th>walk</th>\n",
       "      <th>run</th>\n",
       "      <th>wine</th>\n",
       "      <th>prot</th>\n",
       "      <th>weight</th>\n",
       "      <th>change</th>\n",
       "    </tr>\n",
       "  </thead>\n",
       "  <tbody>\n",
       "    <tr>\n",
       "      <th>Stone</th>\n",
       "      <td>1.000000</td>\n",
       "      <td>-0.980384</td>\n",
       "      <td>-0.190219</td>\n",
       "      <td>0.787595</td>\n",
       "      <td>0.002099</td>\n",
       "      <td>0.052567</td>\n",
       "      <td>-0.109649</td>\n",
       "      <td>-0.033113</td>\n",
       "      <td>-0.072821</td>\n",
       "      <td>-0.133707</td>\n",
       "      <td>0.009897</td>\n",
       "      <td>-0.286142</td>\n",
       "    </tr>\n",
       "    <tr>\n",
       "      <th>Pounds</th>\n",
       "      <td>-0.980384</td>\n",
       "      <td>1.000000</td>\n",
       "      <td>0.157404</td>\n",
       "      <td>-0.652264</td>\n",
       "      <td>-0.030854</td>\n",
       "      <td>-0.029257</td>\n",
       "      <td>0.122125</td>\n",
       "      <td>0.054065</td>\n",
       "      <td>0.030841</td>\n",
       "      <td>0.135703</td>\n",
       "      <td>0.010845</td>\n",
       "      <td>0.214880</td>\n",
       "    </tr>\n",
       "    <tr>\n",
       "      <th>Ounces</th>\n",
       "      <td>-0.190219</td>\n",
       "      <td>0.157404</td>\n",
       "      <td>1.000000</td>\n",
       "      <td>-0.143811</td>\n",
       "      <td>-0.012220</td>\n",
       "      <td>0.007856</td>\n",
       "      <td>0.049295</td>\n",
       "      <td>-0.031251</td>\n",
       "      <td>0.041677</td>\n",
       "      <td>0.040839</td>\n",
       "      <td>0.008350</td>\n",
       "      <td>0.123744</td>\n",
       "    </tr>\n",
       "    <tr>\n",
       "      <th>weight_oz</th>\n",
       "      <td>0.787595</td>\n",
       "      <td>-0.652264</td>\n",
       "      <td>-0.143811</td>\n",
       "      <td>1.000000</td>\n",
       "      <td>-0.090605</td>\n",
       "      <td>0.113664</td>\n",
       "      <td>-0.037218</td>\n",
       "      <td>0.038408</td>\n",
       "      <td>-0.182756</td>\n",
       "      <td>-0.089135</td>\n",
       "      <td>0.073811</td>\n",
       "      <td>-0.425912</td>\n",
       "    </tr>\n",
       "    <tr>\n",
       "      <th>calories</th>\n",
       "      <td>0.002099</td>\n",
       "      <td>-0.030854</td>\n",
       "      <td>-0.012220</td>\n",
       "      <td>-0.090605</td>\n",
       "      <td>1.000000</td>\n",
       "      <td>-0.239251</td>\n",
       "      <td>-0.434065</td>\n",
       "      <td>0.000840</td>\n",
       "      <td>0.270376</td>\n",
       "      <td>0.073819</td>\n",
       "      <td>0.123413</td>\n",
       "      <td>0.773989</td>\n",
       "    </tr>\n",
       "    <tr>\n",
       "      <th>five_donuts</th>\n",
       "      <td>0.052567</td>\n",
       "      <td>-0.029257</td>\n",
       "      <td>0.007856</td>\n",
       "      <td>0.113664</td>\n",
       "      <td>-0.239251</td>\n",
       "      <td>1.000000</td>\n",
       "      <td>0.275835</td>\n",
       "      <td>-0.136558</td>\n",
       "      <td>-0.159311</td>\n",
       "      <td>-0.281215</td>\n",
       "      <td>-0.149653</td>\n",
       "      <td>-0.214417</td>\n",
       "    </tr>\n",
       "    <tr>\n",
       "      <th>walk</th>\n",
       "      <td>-0.109649</td>\n",
       "      <td>0.122125</td>\n",
       "      <td>0.049295</td>\n",
       "      <td>-0.037218</td>\n",
       "      <td>-0.434065</td>\n",
       "      <td>0.275835</td>\n",
       "      <td>1.000000</td>\n",
       "      <td>-0.132453</td>\n",
       "      <td>-0.072229</td>\n",
       "      <td>0.201095</td>\n",
       "      <td>0.059382</td>\n",
       "      <td>-0.384581</td>\n",
       "    </tr>\n",
       "    <tr>\n",
       "      <th>run</th>\n",
       "      <td>-0.033113</td>\n",
       "      <td>0.054065</td>\n",
       "      <td>-0.031251</td>\n",
       "      <td>0.038408</td>\n",
       "      <td>0.000840</td>\n",
       "      <td>-0.136558</td>\n",
       "      <td>-0.132453</td>\n",
       "      <td>1.000000</td>\n",
       "      <td>-0.062577</td>\n",
       "      <td>-0.053838</td>\n",
       "      <td>0.249068</td>\n",
       "      <td>-0.150387</td>\n",
       "    </tr>\n",
       "    <tr>\n",
       "      <th>wine</th>\n",
       "      <td>-0.072821</td>\n",
       "      <td>0.030841</td>\n",
       "      <td>0.041677</td>\n",
       "      <td>-0.182756</td>\n",
       "      <td>0.270376</td>\n",
       "      <td>-0.159311</td>\n",
       "      <td>-0.072229</td>\n",
       "      <td>-0.062577</td>\n",
       "      <td>1.000000</td>\n",
       "      <td>-0.027434</td>\n",
       "      <td>-0.063680</td>\n",
       "      <td>0.215387</td>\n",
       "    </tr>\n",
       "    <tr>\n",
       "      <th>prot</th>\n",
       "      <td>-0.133707</td>\n",
       "      <td>0.135703</td>\n",
       "      <td>0.040839</td>\n",
       "      <td>-0.089135</td>\n",
       "      <td>0.073819</td>\n",
       "      <td>-0.281215</td>\n",
       "      <td>0.201095</td>\n",
       "      <td>-0.053838</td>\n",
       "      <td>-0.027434</td>\n",
       "      <td>1.000000</td>\n",
       "      <td>0.522965</td>\n",
       "      <td>0.035156</td>\n",
       "    </tr>\n",
       "    <tr>\n",
       "      <th>weight</th>\n",
       "      <td>0.009897</td>\n",
       "      <td>0.010845</td>\n",
       "      <td>0.008350</td>\n",
       "      <td>0.073811</td>\n",
       "      <td>0.123413</td>\n",
       "      <td>-0.149653</td>\n",
       "      <td>0.059382</td>\n",
       "      <td>0.249068</td>\n",
       "      <td>-0.063680</td>\n",
       "      <td>0.522965</td>\n",
       "      <td>1.000000</td>\n",
       "      <td>0.038015</td>\n",
       "    </tr>\n",
       "    <tr>\n",
       "      <th>change</th>\n",
       "      <td>-0.286142</td>\n",
       "      <td>0.214880</td>\n",
       "      <td>0.123744</td>\n",
       "      <td>-0.425912</td>\n",
       "      <td>0.773989</td>\n",
       "      <td>-0.214417</td>\n",
       "      <td>-0.384581</td>\n",
       "      <td>-0.150387</td>\n",
       "      <td>0.215387</td>\n",
       "      <td>0.035156</td>\n",
       "      <td>0.038015</td>\n",
       "      <td>1.000000</td>\n",
       "    </tr>\n",
       "  </tbody>\n",
       "</table>\n",
       "</div>"
      ],
      "text/plain": [
       "                Stone    Pounds    Ounces  weight_oz  calories  five_donuts  \\\n",
       "Stone        1.000000 -0.980384 -0.190219   0.787595  0.002099     0.052567   \n",
       "Pounds      -0.980384  1.000000  0.157404  -0.652264 -0.030854    -0.029257   \n",
       "Ounces      -0.190219  0.157404  1.000000  -0.143811 -0.012220     0.007856   \n",
       "weight_oz    0.787595 -0.652264 -0.143811   1.000000 -0.090605     0.113664   \n",
       "calories     0.002099 -0.030854 -0.012220  -0.090605  1.000000    -0.239251   \n",
       "five_donuts  0.052567 -0.029257  0.007856   0.113664 -0.239251     1.000000   \n",
       "walk        -0.109649  0.122125  0.049295  -0.037218 -0.434065     0.275835   \n",
       "run         -0.033113  0.054065 -0.031251   0.038408  0.000840    -0.136558   \n",
       "wine        -0.072821  0.030841  0.041677  -0.182756  0.270376    -0.159311   \n",
       "prot        -0.133707  0.135703  0.040839  -0.089135  0.073819    -0.281215   \n",
       "weight       0.009897  0.010845  0.008350   0.073811  0.123413    -0.149653   \n",
       "change      -0.286142  0.214880  0.123744  -0.425912  0.773989    -0.214417   \n",
       "\n",
       "                 walk       run      wine      prot    weight    change  \n",
       "Stone       -0.109649 -0.033113 -0.072821 -0.133707  0.009897 -0.286142  \n",
       "Pounds       0.122125  0.054065  0.030841  0.135703  0.010845  0.214880  \n",
       "Ounces       0.049295 -0.031251  0.041677  0.040839  0.008350  0.123744  \n",
       "weight_oz   -0.037218  0.038408 -0.182756 -0.089135  0.073811 -0.425912  \n",
       "calories    -0.434065  0.000840  0.270376  0.073819  0.123413  0.773989  \n",
       "five_donuts  0.275835 -0.136558 -0.159311 -0.281215 -0.149653 -0.214417  \n",
       "walk         1.000000 -0.132453 -0.072229  0.201095  0.059382 -0.384581  \n",
       "run         -0.132453  1.000000 -0.062577 -0.053838  0.249068 -0.150387  \n",
       "wine        -0.072229 -0.062577  1.000000 -0.027434 -0.063680  0.215387  \n",
       "prot         0.201095 -0.053838 -0.027434  1.000000  0.522965  0.035156  \n",
       "weight       0.059382  0.249068 -0.063680  0.522965  1.000000  0.038015  \n",
       "change      -0.384581 -0.150387  0.215387  0.035156  0.038015  1.000000  "
      ]
     },
     "execution_count": 28,
     "metadata": {},
     "output_type": "execute_result"
    }
   ],
   "source": [
    "# to find of the correlation between features\n",
    "diet_data_corr = diet_data.corr()\n",
    "diet_data_corr"
   ]
  },
  {
   "cell_type": "code",
   "execution_count": 29,
   "metadata": {},
   "outputs": [
    {
     "data": {
      "text/plain": [
       "<matplotlib.axes._subplots.AxesSubplot at 0x12168ddd8>"
      ]
     },
     "execution_count": 29,
     "metadata": {},
     "output_type": "execute_result"
    },
    {
     "data": {
      "image/png": "[encoded data removed]",
      "text/plain": [
       "<Figure size 720x576 with 2 Axes>"
      ]
     },
     "metadata": {
      "needs_background": "light"
     },
     "output_type": "display_data"
    }
   ],
   "source": [
    "# let's visualize the relationship between the features\n",
    "\n",
    "fig, ax = plt.subplots(figsize=(10,8))\n",
    "\n",
    "sns.heatmap(diet_data_corr, annot=True)"
   ]
  },
  {
   "cell_type": "code",
   "execution_count": 33,
   "metadata": {},
   "outputs": [],
   "source": [
    "X = diet_data.drop(['change', 'Stone', 'Date', 'Pounds', 'Ounces'], axis=1)\n",
    "y = diet_data['change']\n",
    "\n",
    "X_train, X_test, y_train, y_test = train_test_split(X,y, test_size=0.2)"
   ]
  },
  {
   "cell_type": "code",
   "execution_count": 35,
   "metadata": {},
   "outputs": [
    {
     "data": {
      "text/html": [
       "<div>\n",
       "<style scoped>\n",
       "    .dataframe tbody tr th:only-of-type {\n",
       "        vertical-align: middle;\n",
       "    }\n",
       "\n",
       "    .dataframe tbody tr th {\n",
       "        vertical-align: top;\n",
       "    }\n",
       "\n",
       "    .dataframe thead th {\n",
       "        text-align: right;\n",
       "    }\n",
       "</style>\n",
       "<table border=\"1\" class=\"dataframe\">\n",
       "  <thead>\n",
       "    <tr style=\"text-align: right;\">\n",
       "      <th></th>\n",
       "      <th>weight_oz</th>\n",
       "      <th>calories</th>\n",
       "      <th>cals_per_oz</th>\n",
       "      <th>five_donuts</th>\n",
       "      <th>walk</th>\n",
       "      <th>run</th>\n",
       "      <th>wine</th>\n",
       "      <th>prot</th>\n",
       "      <th>weight</th>\n",
       "    </tr>\n",
       "  </thead>\n",
       "  <tbody>\n",
       "    <tr>\n",
       "      <th>9</th>\n",
       "      <td>2674.0</td>\n",
       "      <td>5400.0</td>\n",
       "      <td>2.02</td>\n",
       "      <td>0.0</td>\n",
       "      <td>1.0</td>\n",
       "      <td>0.0</td>\n",
       "      <td>0.0</td>\n",
       "      <td>1.0</td>\n",
       "      <td>1.0</td>\n",
       "    </tr>\n",
       "    <tr>\n",
       "      <th>119</th>\n",
       "      <td>2662.0</td>\n",
       "      <td>2400.0</td>\n",
       "      <td>0.90</td>\n",
       "      <td>1.0</td>\n",
       "      <td>1.0</td>\n",
       "      <td>0.0</td>\n",
       "      <td>0.0</td>\n",
       "      <td>0.0</td>\n",
       "      <td>0.0</td>\n",
       "    </tr>\n",
       "    <tr>\n",
       "      <th>5</th>\n",
       "      <td>2692.0</td>\n",
       "      <td>5200.0</td>\n",
       "      <td>1.93</td>\n",
       "      <td>0.0</td>\n",
       "      <td>1.0</td>\n",
       "      <td>1.0</td>\n",
       "      <td>1.0</td>\n",
       "      <td>1.0</td>\n",
       "      <td>1.0</td>\n",
       "    </tr>\n",
       "    <tr>\n",
       "      <th>11</th>\n",
       "      <td>2672.0</td>\n",
       "      <td>2300.0</td>\n",
       "      <td>0.86</td>\n",
       "      <td>1.0</td>\n",
       "      <td>1.0</td>\n",
       "      <td>1.0</td>\n",
       "      <td>0.0</td>\n",
       "      <td>0.0</td>\n",
       "      <td>0.0</td>\n",
       "    </tr>\n",
       "    <tr>\n",
       "      <th>13</th>\n",
       "      <td>2752.0</td>\n",
       "      <td>5800.0</td>\n",
       "      <td>2.11</td>\n",
       "      <td>0.0</td>\n",
       "      <td>0.0</td>\n",
       "      <td>0.0</td>\n",
       "      <td>0.0</td>\n",
       "      <td>0.0</td>\n",
       "      <td>0.0</td>\n",
       "    </tr>\n",
       "  </tbody>\n",
       "</table>\n",
       "</div>"
      ],
      "text/plain": [
       "     weight_oz  calories cals_per_oz  five_donuts  walk  run  wine  prot  \\\n",
       "9       2674.0    5400.0        2.02          0.0   1.0  0.0   0.0   1.0   \n",
       "119     2662.0    2400.0        0.90          1.0   1.0  0.0   0.0   0.0   \n",
       "5       2692.0    5200.0        1.93          0.0   1.0  1.0   1.0   1.0   \n",
       "11      2672.0    2300.0        0.86          1.0   1.0  1.0   0.0   0.0   \n",
       "13      2752.0    5800.0        2.11          0.0   0.0  0.0   0.0   0.0   \n",
       "\n",
       "     weight  \n",
       "9       1.0  \n",
       "119     0.0  \n",
       "5       1.0  \n",
       "11      0.0  \n",
       "13      0.0  "
      ]
     },
     "execution_count": 35,
     "metadata": {},
     "output_type": "execute_result"
    }
   ],
   "source": [
    "X_train.sample(5)"
   ]
  },
  {
   "cell_type": "code",
   "execution_count": 40,
   "metadata": {},
   "outputs": [],
   "source": [
    "#initialize\n",
    "scaler = StandardScaler()\n",
    "scaler.fit(X_train)\n",
    "\n",
    "X_train = scaler.transform(X_train)\n",
    "X_test = scaler.transform(X_test)"
   ]
  },
  {
   "cell_type": "code",
   "execution_count": 93,
   "metadata": {},
   "outputs": [],
   "source": [
    "# activation allows neurons in NN learn non-linear relationship in data - activation='relu',\n",
    "# hidden_layer_sizes: number of layers and number of neurons in each layer\n",
    "#optimizer here is lbfgs\n",
    "mlp_reg = MLPRegressor(activation='relu',\n",
    "                      hidden_layer_sizes=(2, 6, 4),\n",
    "                      solver='lbfgs',\n",
    "                      verbose=True,\n",
    "                      max_iter=100)"
   ]
  },
  {
   "cell_type": "code",
   "execution_count": 94,
   "metadata": {},
   "outputs": [
    {
     "data": {
      "text/plain": [
       "MLPRegressor(activation='relu', alpha=0.0001, batch_size='auto', beta_1=0.9,\n",
       "       beta_2=0.999, early_stopping=False, epsilon=1e-08,\n",
       "       hidden_layer_sizes=(2, 6, 4), learning_rate='constant',\n",
       "       learning_rate_init=0.001, max_iter=100, momentum=0.9,\n",
       "       n_iter_no_change=10, nesterovs_momentum=True, power_t=0.5,\n",
       "       random_state=None, shuffle=True, solver='lbfgs', tol=0.0001,\n",
       "       validation_fraction=0.1, verbose=True, warm_start=False)"
      ]
     },
     "execution_count": 94,
     "metadata": {},
     "output_type": "execute_result"
    }
   ],
   "source": [
    "mlp_reg.fit(X_train, y_train)\n",
    "# alpha=0.0001 is L2 regularization penalty"
   ]
  },
  {
   "cell_type": "code",
   "execution_count": 97,
   "metadata": {},
   "outputs": [],
   "source": [
    "y_pred = mlp_reg.predict(X_test)"
   ]
  },
  {
   "cell_type": "code",
   "execution_count": 96,
   "metadata": {},
   "outputs": [
    {
     "data": {
      "text/plain": [
       "0.8233110070863578"
      ]
     },
     "execution_count": 96,
     "metadata": {},
     "output_type": "execute_result"
    }
   ],
   "source": [
    "mlp_reg.score(X_train, y_train)"
   ]
  },
  {
   "cell_type": "code",
   "execution_count": 98,
   "metadata": {},
   "outputs": [
    {
     "data": {
      "text/plain": [
       "0.7079081222993556"
      ]
     },
     "execution_count": 98,
     "metadata": {},
     "output_type": "execute_result"
    }
   ],
   "source": [
    "r2_score(y_test, y_pred)"
   ]
  },
  {
   "cell_type": "code",
   "execution_count": 99,
   "metadata": {},
   "outputs": [
    {
     "data": {
      "image/png": "[encoded data removed]",
      "text/plain": [
       "<Figure size 720x360 with 1 Axes>"
      ]
     },
     "metadata": {
      "needs_background": "light"
     },
     "output_type": "display_data"
    }
   ],
   "source": [
    "plt.figure(figsize=(10,5))\n",
    "\n",
    "plt.plot(y_pred, label = 'Predicted')\n",
    "plt.plot(y_test.values, label='Actual')\n",
    "\n",
    "plt.ylabel('Change in weight')\n",
    "\n",
    "plt.legend()\n",
    "\n",
    "plt.show()"
   ]
  },
  {
   "cell_type": "code",
   "execution_count": null,
   "metadata": {},
   "outputs": [],
   "source": []
  }
 ],
 "metadata": {
  "kernelspec": {
   "display_name": "Python 3",
   "language": "python",
   "name": "python3"
  },
  "language_info": {
   "codemirror_mode": {
    "name": "ipython",
    "version": 3
   },
   "file_extension": ".py",
   "mimetype": "text/x-python",
   "name": "python",
   "nbconvert_exporter": "python",
   "pygments_lexer": "ipython3",
   "version": "3.6.8"
  }
 },
 "nbformat": 4,
 "nbformat_minor": 2
}
