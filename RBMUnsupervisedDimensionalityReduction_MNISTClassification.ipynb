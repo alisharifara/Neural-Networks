{
 "cells": [
  {
   "cell_type": "code",
   "execution_count": 79,
   "metadata": {},
   "outputs": [],
   "source": [
    "# Dimensionality Reduction using Restricted Boltzmann Machines\n",
    "\n",
    "import sklearn\n",
    "import pandas as pd\n",
    "import numpy as np\n",
    "import matplotlib.pyplot as plt\n",
    "\n",
    "from sklearn.model_selection import train_test_split\n",
    "from sklearn.neural_network import BernoulliRBM\n",
    "from sklearn.linear_model import LogisticRegression\n",
    "from sklearn.metrics import accuracy_score\n",
    "from sklearn.pipeline import Pipeline\n",
    "from sklearn.base import clone\n",
    "from sklearn.model_selection import GridSearchCV"
   ]
  },
  {
   "cell_type": "code",
   "execution_count": 57,
   "metadata": {},
   "outputs": [],
   "source": [
    "mnist_data_train = pd.read_csv('datasets/mnist_train.csv')\n",
    "mnist_data_train = pd.read_csv('datasets/mnist_test.csv')\n",
    "frames = [mnist_data_train, mnist_data_train]\n",
    "mnist_data = pd.concat(frames)"
   ]
  },
  {
   "cell_type": "code",
   "execution_count": 59,
   "metadata": {},
   "outputs": [
    {
     "data": {
      "text/html": [
       "<div>\n",
       "<style scoped>\n",
       "    .dataframe tbody tr th:only-of-type {\n",
       "        vertical-align: middle;\n",
       "    }\n",
       "\n",
       "    .dataframe tbody tr th {\n",
       "        vertical-align: top;\n",
       "    }\n",
       "\n",
       "    .dataframe thead th {\n",
       "        text-align: right;\n",
       "    }\n",
       "</style>\n",
       "<table border=\"1\" class=\"dataframe\">\n",
       "  <thead>\n",
       "    <tr style=\"text-align: right;\">\n",
       "      <th></th>\n",
       "      <th>7</th>\n",
       "      <th>0</th>\n",
       "      <th>0.1</th>\n",
       "      <th>0.2</th>\n",
       "      <th>0.3</th>\n",
       "      <th>0.4</th>\n",
       "      <th>0.5</th>\n",
       "      <th>0.6</th>\n",
       "      <th>0.7</th>\n",
       "      <th>0.8</th>\n",
       "      <th>...</th>\n",
       "      <th>0.658</th>\n",
       "      <th>0.659</th>\n",
       "      <th>0.660</th>\n",
       "      <th>0.661</th>\n",
       "      <th>0.662</th>\n",
       "      <th>0.663</th>\n",
       "      <th>0.664</th>\n",
       "      <th>0.665</th>\n",
       "      <th>0.666</th>\n",
       "      <th>0.667</th>\n",
       "    </tr>\n",
       "  </thead>\n",
       "  <tbody>\n",
       "    <tr>\n",
       "      <th>3696</th>\n",
       "      <td>6</td>\n",
       "      <td>0</td>\n",
       "      <td>0</td>\n",
       "      <td>0</td>\n",
       "      <td>0</td>\n",
       "      <td>0</td>\n",
       "      <td>0</td>\n",
       "      <td>0</td>\n",
       "      <td>0</td>\n",
       "      <td>0</td>\n",
       "      <td>...</td>\n",
       "      <td>0</td>\n",
       "      <td>0</td>\n",
       "      <td>0</td>\n",
       "      <td>0</td>\n",
       "      <td>0</td>\n",
       "      <td>0</td>\n",
       "      <td>0</td>\n",
       "      <td>0</td>\n",
       "      <td>0</td>\n",
       "      <td>0</td>\n",
       "    </tr>\n",
       "    <tr>\n",
       "      <th>5206</th>\n",
       "      <td>5</td>\n",
       "      <td>0</td>\n",
       "      <td>0</td>\n",
       "      <td>0</td>\n",
       "      <td>0</td>\n",
       "      <td>0</td>\n",
       "      <td>0</td>\n",
       "      <td>0</td>\n",
       "      <td>0</td>\n",
       "      <td>0</td>\n",
       "      <td>...</td>\n",
       "      <td>0</td>\n",
       "      <td>0</td>\n",
       "      <td>0</td>\n",
       "      <td>0</td>\n",
       "      <td>0</td>\n",
       "      <td>0</td>\n",
       "      <td>0</td>\n",
       "      <td>0</td>\n",
       "      <td>0</td>\n",
       "      <td>0</td>\n",
       "    </tr>\n",
       "    <tr>\n",
       "      <th>9659</th>\n",
       "      <td>7</td>\n",
       "      <td>0</td>\n",
       "      <td>0</td>\n",
       "      <td>0</td>\n",
       "      <td>0</td>\n",
       "      <td>0</td>\n",
       "      <td>0</td>\n",
       "      <td>0</td>\n",
       "      <td>0</td>\n",
       "      <td>0</td>\n",
       "      <td>...</td>\n",
       "      <td>0</td>\n",
       "      <td>0</td>\n",
       "      <td>0</td>\n",
       "      <td>0</td>\n",
       "      <td>0</td>\n",
       "      <td>0</td>\n",
       "      <td>0</td>\n",
       "      <td>0</td>\n",
       "      <td>0</td>\n",
       "      <td>0</td>\n",
       "    </tr>\n",
       "    <tr>\n",
       "      <th>4696</th>\n",
       "      <td>7</td>\n",
       "      <td>0</td>\n",
       "      <td>0</td>\n",
       "      <td>0</td>\n",
       "      <td>0</td>\n",
       "      <td>0</td>\n",
       "      <td>0</td>\n",
       "      <td>0</td>\n",
       "      <td>0</td>\n",
       "      <td>0</td>\n",
       "      <td>...</td>\n",
       "      <td>0</td>\n",
       "      <td>0</td>\n",
       "      <td>0</td>\n",
       "      <td>0</td>\n",
       "      <td>0</td>\n",
       "      <td>0</td>\n",
       "      <td>0</td>\n",
       "      <td>0</td>\n",
       "      <td>0</td>\n",
       "      <td>0</td>\n",
       "    </tr>\n",
       "    <tr>\n",
       "      <th>5215</th>\n",
       "      <td>2</td>\n",
       "      <td>0</td>\n",
       "      <td>0</td>\n",
       "      <td>0</td>\n",
       "      <td>0</td>\n",
       "      <td>0</td>\n",
       "      <td>0</td>\n",
       "      <td>0</td>\n",
       "      <td>0</td>\n",
       "      <td>0</td>\n",
       "      <td>...</td>\n",
       "      <td>0</td>\n",
       "      <td>0</td>\n",
       "      <td>0</td>\n",
       "      <td>0</td>\n",
       "      <td>0</td>\n",
       "      <td>0</td>\n",
       "      <td>0</td>\n",
       "      <td>0</td>\n",
       "      <td>0</td>\n",
       "      <td>0</td>\n",
       "    </tr>\n",
       "  </tbody>\n",
       "</table>\n",
       "<p>5 rows × 785 columns</p>\n",
       "</div>"
      ],
      "text/plain": [
       "      7  0  0.1  0.2  0.3  0.4  0.5  0.6  0.7  0.8  ...  0.658  0.659  0.660  \\\n",
       "3696  6  0    0    0    0    0    0    0    0    0  ...      0      0      0   \n",
       "5206  5  0    0    0    0    0    0    0    0    0  ...      0      0      0   \n",
       "9659  7  0    0    0    0    0    0    0    0    0  ...      0      0      0   \n",
       "4696  7  0    0    0    0    0    0    0    0    0  ...      0      0      0   \n",
       "5215  2  0    0    0    0    0    0    0    0    0  ...      0      0      0   \n",
       "\n",
       "      0.661  0.662  0.663  0.664  0.665  0.666  0.667  \n",
       "3696      0      0      0      0      0      0      0  \n",
       "5206      0      0      0      0      0      0      0  \n",
       "9659      0      0      0      0      0      0      0  \n",
       "4696      0      0      0      0      0      0      0  \n",
       "5215      0      0      0      0      0      0      0  \n",
       "\n",
       "[5 rows x 785 columns]"
      ]
     },
     "execution_count": 59,
     "metadata": {},
     "output_type": "execute_result"
    }
   ],
   "source": [
    "mnist_data.sample(5)"
   ]
  },
  {
   "cell_type": "code",
   "execution_count": 60,
   "metadata": {},
   "outputs": [
    {
     "data": {
      "text/plain": [
       "(19998, 785)"
      ]
     },
     "execution_count": 60,
     "metadata": {},
     "output_type": "execute_result"
    }
   ],
   "source": [
    "mnist_data.shape"
   ]
  },
  {
   "cell_type": "code",
   "execution_count": 61,
   "metadata": {},
   "outputs": [],
   "source": [
    "mnist_features = mnist_data[mnist_data.columns[1:]]\n",
    "mnist_labels = mnist_data[mnist_data.columns[0]]"
   ]
  },
  {
   "cell_type": "code",
   "execution_count": 62,
   "metadata": {},
   "outputs": [
    {
     "data": {
      "text/plain": [
       "(19998, 784)"
      ]
     },
     "execution_count": 62,
     "metadata": {},
     "output_type": "execute_result"
    }
   ],
   "source": [
    "mnist_features.shape"
   ]
  },
  {
   "cell_type": "code",
   "execution_count": 63,
   "metadata": {},
   "outputs": [],
   "source": [
    "def display_images(index):\n",
    "    print('label:', mnist_labels[index])\n",
    "    plt.imshow(mnist_features.iloc[index].values.reshape(28,28), cmap='Greys')"
   ]
  },
  {
   "cell_type": "code",
   "execution_count": 64,
   "metadata": {},
   "outputs": [
    {
     "name": "stdout",
     "output_type": "stream",
     "text": [
      "label: 2    0\n",
      "2    0\n",
      "Name: 7, dtype: int64\n"
     ]
    },
    {
     "data": {
      "image/png": "[encoded data removed]",
      "text/plain": [
       "<Figure size 432x288 with 1 Axes>"
      ]
     },
     "metadata": {
      "needs_background": "light"
     },
     "output_type": "display_data"
    }
   ],
   "source": [
    "display_images(2)"
   ]
  },
  {
   "cell_type": "code",
   "execution_count": 65,
   "metadata": {},
   "outputs": [],
   "source": [
    "mnist_features = np.array(mnist_features)"
   ]
  },
  {
   "cell_type": "code",
   "execution_count": 66,
   "metadata": {},
   "outputs": [
    {
     "data": {
      "text/plain": [
       "array([  0,   0,   0,   0,   0,   0,   0,   0,   0,   0,   0,   0,   0,\n",
       "         0,   0,   0,   0,   0,   0,   0,   0,   0,   0,   0,  11, 150,\n",
       "       253, 202,  31,   0,   0,   0,   0,   0,   0,   0,   0,   0,   0,\n",
       "         0])"
      ]
     },
     "execution_count": 66,
     "metadata": {},
     "output_type": "execute_result"
    }
   ],
   "source": [
    "# they are grayscale images 0-255\n",
    "mnist_features[2][100:140]"
   ]
  },
  {
   "cell_type": "code",
   "execution_count": 67,
   "metadata": {},
   "outputs": [],
   "source": [
    "# to have all the values between 0 and 1\n",
    "mnist_features = mnist_features / 255."
   ]
  },
  {
   "cell_type": "code",
   "execution_count": 68,
   "metadata": {},
   "outputs": [
    {
     "data": {
      "text/plain": [
       "array([0.        , 0.        , 0.        , 0.        , 0.        ,\n",
       "       0.        , 0.        , 0.        , 0.        , 0.        ,\n",
       "       0.        , 0.        , 0.        , 0.        , 0.        ,\n",
       "       0.        , 0.        , 0.        , 0.        , 0.        ,\n",
       "       0.        , 0.02745098, 0.58823529, 0.98823529, 0.98823529,\n",
       "       0.49019608, 0.        , 0.        , 0.        , 0.        ,\n",
       "       0.        , 0.        , 0.        , 0.        , 0.        ,\n",
       "       0.        , 0.        , 0.        , 0.        , 0.        ,\n",
       "       0.        , 0.        , 0.        , 0.        , 0.        ,\n",
       "       0.        , 0.        , 0.        , 0.        , 0.45882353])"
      ]
     },
     "execution_count": 68,
     "metadata": {},
     "output_type": "execute_result"
    }
   ],
   "source": [
    "mnist_features[10][100:150]"
   ]
  },
  {
   "cell_type": "code",
   "execution_count": 69,
   "metadata": {},
   "outputs": [],
   "source": [
    "X_train, X_test, y_train, y_test = train_test_split(mnist_features, \n",
    "                                                    mnist_labels, \n",
    "                                                    shuffle=True,\n",
    "                                                    test_size=0.2)"
   ]
  },
  {
   "cell_type": "code",
   "execution_count": 70,
   "metadata": {},
   "outputs": [
    {
     "data": {
      "text/plain": [
       "((15998, 784), (15998,))"
      ]
     },
     "execution_count": 70,
     "metadata": {},
     "output_type": "execute_result"
    }
   ],
   "source": [
    "X_train.shape, y_train.shape"
   ]
  },
  {
   "cell_type": "code",
   "execution_count": 71,
   "metadata": {},
   "outputs": [
    {
     "data": {
      "text/plain": [
       "((4000, 784), (4000,))"
      ]
     },
     "execution_count": 71,
     "metadata": {},
     "output_type": "execute_result"
    }
   ],
   "source": [
    "X_test.shape, y_test.shape"
   ]
  },
  {
   "cell_type": "code",
   "execution_count": 76,
   "metadata": {},
   "outputs": [],
   "source": [
    "logistic = LogisticRegression(solver='lbfgs',\n",
    "                              max_iter=1000,\n",
    "                              multi_class='multinomial')"
   ]
  },
  {
   "cell_type": "code",
   "execution_count": 82,
   "metadata": {},
   "outputs": [
    {
     "name": "stdout",
     "output_type": "stream",
     "text": [
      "0.937179647455932\n",
      "{'C': 5}\n"
     ]
    }
   ],
   "source": [
    "# to avoid overfitting\n",
    "# C is inverse of regularization -- smaller values imply stronger regularization\n",
    "param_grid = [{'C' : [0.1,1,5]}]\n",
    "\n",
    "grid_search = GridSearchCV(logistic, param_grid, cv=2)\n",
    "grid_search.fit(X_train, y_train)\n",
    "print(grid_search.best_score_)\n",
    "print(grid_search.best_params_)"
   ]
  },
  {
   "cell_type": "code",
   "execution_count": 94,
   "metadata": {},
   "outputs": [],
   "source": [
    "# now we want to use dimensiality reduction\n",
    "\n",
    "# it's got only 2 layers (shallow NN)\n",
    "# it uses unsupervised learning to reduce the dimension of inputs\n",
    "rbm = BernoulliRBM(verbose=True)\n",
    "\n",
    "rbm_features_classifier = Pipeline( steps = [\n",
    "                                    ('rbm', rbm),\n",
    "                                    ('logistic', logistic)]\n",
    "                                  )\n",
    "\n",
    "rbm.learning_rate = 0.06\n",
    "logistic.C = grid_search.best_params_['C']"
   ]
  },
  {
   "cell_type": "code",
   "execution_count": 96,
   "metadata": {},
   "outputs": [
    {
     "data": {
      "text/plain": [
       "dict_keys(['memory', 'steps', 'rbm', 'logistic', 'rbm__batch_size', 'rbm__learning_rate', 'rbm__n_components', 'rbm__n_iter', 'rbm__random_state', 'rbm__verbose', 'logistic__C', 'logistic__class_weight', 'logistic__dual', 'logistic__fit_intercept', 'logistic__intercept_scaling', 'logistic__max_iter', 'logistic__multi_class', 'logistic__n_jobs', 'logistic__penalty', 'logistic__random_state', 'logistic__solver', 'logistic__tol', 'logistic__verbose', 'logistic__warm_start'])"
      ]
     },
     "execution_count": 96,
     "metadata": {},
     "output_type": "execute_result"
    }
   ],
   "source": [
    "rbm_features_classifier.get_params().keys()"
   ]
  },
  {
   "cell_type": "code",
   "execution_count": 101,
   "metadata": {},
   "outputs": [
    {
     "name": "stdout",
     "output_type": "stream",
     "text": [
      "[BernoulliRBM] Iteration 1, pseudo-likelihood = -204.45, time = 0.26s\n",
      "[BernoulliRBM] Iteration 2, pseudo-likelihood = -201.68, time = 0.36s\n",
      "[BernoulliRBM] Iteration 3, pseudo-likelihood = -192.80, time = 0.31s\n",
      "[BernoulliRBM] Iteration 4, pseudo-likelihood = -187.06, time = 0.30s\n",
      "[BernoulliRBM] Iteration 5, pseudo-likelihood = -200.73, time = 0.29s\n",
      "[BernoulliRBM] Iteration 1, pseudo-likelihood = -197.24, time = 0.26s\n",
      "[BernoulliRBM] Iteration 2, pseudo-likelihood = -206.49, time = 0.31s\n",
      "[BernoulliRBM] Iteration 3, pseudo-likelihood = -207.75, time = 0.37s\n",
      "[BernoulliRBM] Iteration 4, pseudo-likelihood = -192.07, time = 0.30s\n",
      "[BernoulliRBM] Iteration 5, pseudo-likelihood = -207.71, time = 0.33s\n",
      "[BernoulliRBM] Iteration 1, pseudo-likelihood = -204.50, time = 0.27s\n",
      "[BernoulliRBM] Iteration 2, pseudo-likelihood = -199.15, time = 0.30s\n",
      "[BernoulliRBM] Iteration 3, pseudo-likelihood = -196.68, time = 0.30s\n",
      "[BernoulliRBM] Iteration 4, pseudo-likelihood = -197.11, time = 0.31s\n",
      "[BernoulliRBM] Iteration 5, pseudo-likelihood = -197.79, time = 0.31s\n",
      "[BernoulliRBM] Iteration 6, pseudo-likelihood = -195.19, time = 0.30s\n",
      "[BernoulliRBM] Iteration 7, pseudo-likelihood = -197.87, time = 0.29s\n",
      "[BernoulliRBM] Iteration 8, pseudo-likelihood = -196.81, time = 0.37s\n",
      "[BernoulliRBM] Iteration 9, pseudo-likelihood = -200.99, time = 0.32s\n",
      "[BernoulliRBM] Iteration 10, pseudo-likelihood = -196.99, time = 0.29s\n",
      "[BernoulliRBM] Iteration 11, pseudo-likelihood = -195.28, time = 0.31s\n",
      "[BernoulliRBM] Iteration 12, pseudo-likelihood = -196.41, time = 0.30s\n",
      "[BernoulliRBM] Iteration 13, pseudo-likelihood = -200.02, time = 0.34s\n",
      "[BernoulliRBM] Iteration 14, pseudo-likelihood = -200.26, time = 0.30s\n",
      "[BernoulliRBM] Iteration 15, pseudo-likelihood = -200.75, time = 0.32s\n",
      "[BernoulliRBM] Iteration 16, pseudo-likelihood = -192.54, time = 0.31s\n",
      "[BernoulliRBM] Iteration 17, pseudo-likelihood = -197.59, time = 0.31s\n",
      "[BernoulliRBM] Iteration 18, pseudo-likelihood = -198.46, time = 0.33s\n",
      "[BernoulliRBM] Iteration 19, pseudo-likelihood = -199.03, time = 0.33s\n",
      "[BernoulliRBM] Iteration 20, pseudo-likelihood = -193.79, time = 0.41s\n",
      "[BernoulliRBM] Iteration 1, pseudo-likelihood = -197.74, time = 0.30s\n",
      "[BernoulliRBM] Iteration 2, pseudo-likelihood = -200.27, time = 0.31s\n",
      "[BernoulliRBM] Iteration 3, pseudo-likelihood = -205.40, time = 0.31s\n",
      "[BernoulliRBM] Iteration 4, pseudo-likelihood = -204.76, time = 0.31s\n",
      "[BernoulliRBM] Iteration 5, pseudo-likelihood = -201.38, time = 0.31s\n",
      "[BernoulliRBM] Iteration 6, pseudo-likelihood = -201.62, time = 0.32s\n",
      "[BernoulliRBM] Iteration 7, pseudo-likelihood = -208.17, time = 0.32s\n",
      "[BernoulliRBM] Iteration 8, pseudo-likelihood = -202.11, time = 0.31s\n",
      "[BernoulliRBM] Iteration 9, pseudo-likelihood = -204.90, time = 0.36s\n",
      "[BernoulliRBM] Iteration 10, pseudo-likelihood = -193.51, time = 0.32s\n",
      "[BernoulliRBM] Iteration 11, pseudo-likelihood = -198.14, time = 0.31s\n",
      "[BernoulliRBM] Iteration 12, pseudo-likelihood = -204.83, time = 0.31s\n",
      "[BernoulliRBM] Iteration 13, pseudo-likelihood = -203.00, time = 0.31s\n",
      "[BernoulliRBM] Iteration 14, pseudo-likelihood = -199.81, time = 0.32s\n",
      "[BernoulliRBM] Iteration 15, pseudo-likelihood = -197.42, time = 0.32s\n",
      "[BernoulliRBM] Iteration 16, pseudo-likelihood = -198.78, time = 0.32s\n",
      "[BernoulliRBM] Iteration 17, pseudo-likelihood = -201.46, time = 0.36s\n",
      "[BernoulliRBM] Iteration 18, pseudo-likelihood = -199.65, time = 0.32s\n",
      "[BernoulliRBM] Iteration 19, pseudo-likelihood = -197.68, time = 0.31s\n",
      "[BernoulliRBM] Iteration 20, pseudo-likelihood = -186.29, time = 0.31s\n",
      "[BernoulliRBM] Iteration 1, pseudo-likelihood = -145.67, time = 0.58s\n",
      "[BernoulliRBM] Iteration 2, pseudo-likelihood = -132.01, time = 0.68s\n",
      "[BernoulliRBM] Iteration 3, pseudo-likelihood = -121.87, time = 0.68s\n",
      "[BernoulliRBM] Iteration 4, pseudo-likelihood = -116.28, time = 0.67s\n",
      "[BernoulliRBM] Iteration 5, pseudo-likelihood = -111.31, time = 0.67s\n",
      "[BernoulliRBM] Iteration 1, pseudo-likelihood = -203.78, time = 0.59s\n",
      "[BernoulliRBM] Iteration 2, pseudo-likelihood = -163.71, time = 0.72s\n",
      "[BernoulliRBM] Iteration 3, pseudo-likelihood = -152.33, time = 0.68s\n",
      "[BernoulliRBM] Iteration 4, pseudo-likelihood = -137.20, time = 0.68s\n",
      "[BernoulliRBM] Iteration 5, pseudo-likelihood = -134.49, time = 0.66s\n",
      "[BernoulliRBM] Iteration 1, pseudo-likelihood = -143.33, time = 0.56s\n",
      "[BernoulliRBM] Iteration 2, pseudo-likelihood = -134.50, time = 0.63s\n",
      "[BernoulliRBM] Iteration 3, pseudo-likelihood = -121.79, time = 0.61s\n",
      "[BernoulliRBM] Iteration 4, pseudo-likelihood = -127.64, time = 0.61s\n",
      "[BernoulliRBM] Iteration 5, pseudo-likelihood = -117.99, time = 0.61s\n",
      "[BernoulliRBM] Iteration 6, pseudo-likelihood = -108.41, time = 0.68s\n",
      "[BernoulliRBM] Iteration 7, pseudo-likelihood = -111.65, time = 0.61s\n",
      "[BernoulliRBM] Iteration 8, pseudo-likelihood = -108.47, time = 0.64s\n",
      "[BernoulliRBM] Iteration 9, pseudo-likelihood = -111.53, time = 0.80s\n",
      "[BernoulliRBM] Iteration 10, pseudo-likelihood = -104.80, time = 0.70s\n",
      "[BernoulliRBM] Iteration 11, pseudo-likelihood = -108.97, time = 0.67s\n",
      "[BernoulliRBM] Iteration 12, pseudo-likelihood = -101.14, time = 0.69s\n",
      "[BernoulliRBM] Iteration 13, pseudo-likelihood = -101.26, time = 0.66s\n",
      "[BernoulliRBM] Iteration 14, pseudo-likelihood = -103.48, time = 0.71s\n",
      "[BernoulliRBM] Iteration 15, pseudo-likelihood = -107.78, time = 0.70s\n",
      "[BernoulliRBM] Iteration 16, pseudo-likelihood = -101.77, time = 0.71s\n",
      "[BernoulliRBM] Iteration 17, pseudo-likelihood = -105.98, time = 0.68s\n",
      "[BernoulliRBM] Iteration 18, pseudo-likelihood = -103.70, time = 0.69s\n",
      "[BernoulliRBM] Iteration 19, pseudo-likelihood = -99.12, time = 0.67s\n",
      "[BernoulliRBM] Iteration 20, pseudo-likelihood = -98.07, time = 0.67s\n",
      "[BernoulliRBM] Iteration 1, pseudo-likelihood = -195.43, time = 0.60s\n",
      "[BernoulliRBM] Iteration 2, pseudo-likelihood = -153.14, time = 0.69s\n",
      "[BernoulliRBM] Iteration 3, pseudo-likelihood = -149.60, time = 0.69s\n",
      "[BernoulliRBM] Iteration 4, pseudo-likelihood = -130.54, time = 0.69s\n",
      "[BernoulliRBM] Iteration 5, pseudo-likelihood = -127.41, time = 0.70s\n",
      "[BernoulliRBM] Iteration 6, pseudo-likelihood = -123.36, time = 0.68s\n",
      "[BernoulliRBM] Iteration 7, pseudo-likelihood = -130.70, time = 0.69s\n",
      "[BernoulliRBM] Iteration 8, pseudo-likelihood = -124.13, time = 0.70s\n",
      "[BernoulliRBM] Iteration 9, pseudo-likelihood = -124.52, time = 0.68s\n",
      "[BernoulliRBM] Iteration 10, pseudo-likelihood = -119.07, time = 0.78s\n",
      "[BernoulliRBM] Iteration 11, pseudo-likelihood = -122.09, time = 0.69s\n",
      "[BernoulliRBM] Iteration 12, pseudo-likelihood = -125.14, time = 0.69s\n",
      "[BernoulliRBM] Iteration 13, pseudo-likelihood = -127.07, time = 0.68s\n",
      "[BernoulliRBM] Iteration 14, pseudo-likelihood = -113.01, time = 0.70s\n",
      "[BernoulliRBM] Iteration 15, pseudo-likelihood = -124.15, time = 0.72s\n",
      "[BernoulliRBM] Iteration 16, pseudo-likelihood = -117.72, time = 0.61s\n",
      "[BernoulliRBM] Iteration 17, pseudo-likelihood = -110.88, time = 0.60s\n",
      "[BernoulliRBM] Iteration 18, pseudo-likelihood = -122.38, time = 0.60s\n",
      "[BernoulliRBM] Iteration 19, pseudo-likelihood = -112.63, time = 0.60s\n",
      "[BernoulliRBM] Iteration 20, pseudo-likelihood = -116.85, time = 0.60s\n",
      "[BernoulliRBM] Iteration 1, pseudo-likelihood = -125.52, time = 0.77s\n",
      "[BernoulliRBM] Iteration 2, pseudo-likelihood = -113.11, time = 0.96s\n",
      "[BernoulliRBM] Iteration 3, pseudo-likelihood = -105.91, time = 0.89s\n",
      "[BernoulliRBM] Iteration 4, pseudo-likelihood = -103.63, time = 0.89s\n",
      "[BernoulliRBM] Iteration 5, pseudo-likelihood = -98.20, time = 0.89s\n",
      "[BernoulliRBM] Iteration 1, pseudo-likelihood = -200.79, time = 0.78s\n",
      "[BernoulliRBM] Iteration 2, pseudo-likelihood = -142.69, time = 0.90s\n",
      "[BernoulliRBM] Iteration 3, pseudo-likelihood = -126.57, time = 0.89s\n",
      "[BernoulliRBM] Iteration 4, pseudo-likelihood = -117.65, time = 0.96s\n",
      "[BernoulliRBM] Iteration 5, pseudo-likelihood = -113.68, time = 0.90s\n",
      "[BernoulliRBM] Iteration 1, pseudo-likelihood = -136.61, time = 0.78s\n",
      "[BernoulliRBM] Iteration 2, pseudo-likelihood = -121.24, time = 0.90s\n",
      "[BernoulliRBM] Iteration 3, pseudo-likelihood = -111.96, time = 0.89s\n",
      "[BernoulliRBM] Iteration 4, pseudo-likelihood = -110.15, time = 0.89s\n",
      "[BernoulliRBM] Iteration 5, pseudo-likelihood = -100.49, time = 0.89s\n",
      "[BernoulliRBM] Iteration 6, pseudo-likelihood = -103.26, time = 0.90s\n",
      "[BernoulliRBM] Iteration 7, pseudo-likelihood = -97.29, time = 1.04s\n"
     ]
    },
    {
     "name": "stdout",
     "output_type": "stream",
     "text": [
      "[BernoulliRBM] Iteration 8, pseudo-likelihood = -94.54, time = 0.92s\n",
      "[BernoulliRBM] Iteration 9, pseudo-likelihood = -95.69, time = 0.91s\n",
      "[BernoulliRBM] Iteration 10, pseudo-likelihood = -95.52, time = 0.91s\n",
      "[BernoulliRBM] Iteration 11, pseudo-likelihood = -99.78, time = 0.89s\n",
      "[BernoulliRBM] Iteration 12, pseudo-likelihood = -87.34, time = 0.89s\n",
      "[BernoulliRBM] Iteration 13, pseudo-likelihood = -95.81, time = 0.90s\n",
      "[BernoulliRBM] Iteration 14, pseudo-likelihood = -92.46, time = 0.89s\n",
      "[BernoulliRBM] Iteration 15, pseudo-likelihood = -92.65, time = 0.88s\n",
      "[BernoulliRBM] Iteration 16, pseudo-likelihood = -95.76, time = 0.88s\n",
      "[BernoulliRBM] Iteration 17, pseudo-likelihood = -91.55, time = 0.89s\n",
      "[BernoulliRBM] Iteration 18, pseudo-likelihood = -94.98, time = 0.88s\n",
      "[BernoulliRBM] Iteration 19, pseudo-likelihood = -91.37, time = 0.95s\n",
      "[BernoulliRBM] Iteration 20, pseudo-likelihood = -89.67, time = 0.89s\n",
      "[BernoulliRBM] Iteration 1, pseudo-likelihood = -193.47, time = 0.78s\n",
      "[BernoulliRBM] Iteration 2, pseudo-likelihood = -149.41, time = 0.88s\n",
      "[BernoulliRBM] Iteration 3, pseudo-likelihood = -133.70, time = 0.89s\n",
      "[BernoulliRBM] Iteration 4, pseudo-likelihood = -131.17, time = 1.01s\n",
      "[BernoulliRBM] Iteration 5, pseudo-likelihood = -140.79, time = 1.24s\n",
      "[BernoulliRBM] Iteration 6, pseudo-likelihood = -129.26, time = 0.89s\n",
      "[BernoulliRBM] Iteration 7, pseudo-likelihood = -126.96, time = 0.89s\n",
      "[BernoulliRBM] Iteration 8, pseudo-likelihood = -109.74, time = 0.89s\n",
      "[BernoulliRBM] Iteration 9, pseudo-likelihood = -115.22, time = 0.89s\n",
      "[BernoulliRBM] Iteration 10, pseudo-likelihood = -118.49, time = 0.90s\n",
      "[BernoulliRBM] Iteration 11, pseudo-likelihood = -109.32, time = 0.89s\n",
      "[BernoulliRBM] Iteration 12, pseudo-likelihood = -114.43, time = 0.90s\n",
      "[BernoulliRBM] Iteration 13, pseudo-likelihood = -111.90, time = 0.89s\n",
      "[BernoulliRBM] Iteration 14, pseudo-likelihood = -107.95, time = 0.89s\n",
      "[BernoulliRBM] Iteration 15, pseudo-likelihood = -105.58, time = 0.94s\n",
      "[BernoulliRBM] Iteration 16, pseudo-likelihood = -107.77, time = 0.97s\n",
      "[BernoulliRBM] Iteration 17, pseudo-likelihood = -104.48, time = 0.89s\n",
      "[BernoulliRBM] Iteration 18, pseudo-likelihood = -103.45, time = 0.93s\n",
      "[BernoulliRBM] Iteration 19, pseudo-likelihood = -101.70, time = 0.89s\n",
      "[BernoulliRBM] Iteration 20, pseudo-likelihood = -104.96, time = 0.89s\n",
      "[BernoulliRBM] Iteration 1, pseudo-likelihood = -126.52, time = 1.07s\n",
      "[BernoulliRBM] Iteration 2, pseudo-likelihood = -110.24, time = 1.23s\n",
      "[BernoulliRBM] Iteration 3, pseudo-likelihood = -111.27, time = 1.27s\n",
      "[BernoulliRBM] Iteration 4, pseudo-likelihood = -98.76, time = 1.22s\n",
      "[BernoulliRBM] Iteration 5, pseudo-likelihood = -94.34, time = 1.22s\n",
      "[BernoulliRBM] Iteration 1, pseudo-likelihood = -167.97, time = 1.36s\n",
      "[BernoulliRBM] Iteration 2, pseudo-likelihood = -137.66, time = 1.57s\n",
      "[BernoulliRBM] Iteration 3, pseudo-likelihood = -124.50, time = 1.72s\n",
      "[BernoulliRBM] Iteration 4, pseudo-likelihood = -123.57, time = 1.35s\n",
      "[BernoulliRBM] Iteration 5, pseudo-likelihood = -118.14, time = 1.44s\n",
      "[BernoulliRBM] Iteration 1, pseudo-likelihood = -127.14, time = 1.23s\n",
      "[BernoulliRBM] Iteration 2, pseudo-likelihood = -109.23, time = 1.35s\n",
      "[BernoulliRBM] Iteration 3, pseudo-likelihood = -99.64, time = 1.42s\n",
      "[BernoulliRBM] Iteration 4, pseudo-likelihood = -105.38, time = 1.39s\n",
      "[BernoulliRBM] Iteration 5, pseudo-likelihood = -97.39, time = 1.83s\n",
      "[BernoulliRBM] Iteration 6, pseudo-likelihood = -92.04, time = 1.44s\n",
      "[BernoulliRBM] Iteration 7, pseudo-likelihood = -92.34, time = 1.38s\n",
      "[BernoulliRBM] Iteration 8, pseudo-likelihood = -87.85, time = 1.64s\n",
      "[BernoulliRBM] Iteration 9, pseudo-likelihood = -90.99, time = 1.46s\n",
      "[BernoulliRBM] Iteration 10, pseudo-likelihood = -85.46, time = 1.51s\n",
      "[BernoulliRBM] Iteration 11, pseudo-likelihood = -86.49, time = 1.41s\n",
      "[BernoulliRBM] Iteration 12, pseudo-likelihood = -85.27, time = 1.42s\n",
      "[BernoulliRBM] Iteration 13, pseudo-likelihood = -83.08, time = 1.42s\n",
      "[BernoulliRBM] Iteration 14, pseudo-likelihood = -83.26, time = 1.42s\n",
      "[BernoulliRBM] Iteration 15, pseudo-likelihood = -83.48, time = 1.47s\n",
      "[BernoulliRBM] Iteration 16, pseudo-likelihood = -84.72, time = 1.42s\n",
      "[BernoulliRBM] Iteration 17, pseudo-likelihood = -82.12, time = 1.42s\n",
      "[BernoulliRBM] Iteration 18, pseudo-likelihood = -90.06, time = 1.45s\n",
      "[BernoulliRBM] Iteration 19, pseudo-likelihood = -81.74, time = 1.43s\n",
      "[BernoulliRBM] Iteration 20, pseudo-likelihood = -82.40, time = 1.37s\n",
      "[BernoulliRBM] Iteration 1, pseudo-likelihood = -181.58, time = 1.18s\n",
      "[BernoulliRBM] Iteration 2, pseudo-likelihood = -147.18, time = 1.32s\n",
      "[BernoulliRBM] Iteration 3, pseudo-likelihood = -133.53, time = 1.29s\n",
      "[BernoulliRBM] Iteration 4, pseudo-likelihood = -129.84, time = 1.25s\n",
      "[BernoulliRBM] Iteration 5, pseudo-likelihood = -117.87, time = 1.54s\n",
      "[BernoulliRBM] Iteration 6, pseudo-likelihood = -111.93, time = 1.34s\n",
      "[BernoulliRBM] Iteration 7, pseudo-likelihood = -106.69, time = 1.36s\n",
      "[BernoulliRBM] Iteration 8, pseudo-likelihood = -111.11, time = 1.58s\n",
      "[BernoulliRBM] Iteration 9, pseudo-likelihood = -103.11, time = 1.24s\n",
      "[BernoulliRBM] Iteration 10, pseudo-likelihood = -106.63, time = 1.27s\n",
      "[BernoulliRBM] Iteration 11, pseudo-likelihood = -107.96, time = 1.26s\n",
      "[BernoulliRBM] Iteration 12, pseudo-likelihood = -99.51, time = 1.23s\n",
      "[BernoulliRBM] Iteration 13, pseudo-likelihood = -103.37, time = 1.30s\n",
      "[BernoulliRBM] Iteration 14, pseudo-likelihood = -99.43, time = 1.36s\n",
      "[BernoulliRBM] Iteration 15, pseudo-likelihood = -102.33, time = 1.24s\n",
      "[BernoulliRBM] Iteration 16, pseudo-likelihood = -97.28, time = 1.27s\n",
      "[BernoulliRBM] Iteration 17, pseudo-likelihood = -99.52, time = 1.25s\n",
      "[BernoulliRBM] Iteration 18, pseudo-likelihood = -99.60, time = 1.26s\n",
      "[BernoulliRBM] Iteration 19, pseudo-likelihood = -96.55, time = 1.26s\n",
      "[BernoulliRBM] Iteration 20, pseudo-likelihood = -97.14, time = 1.27s\n",
      "[BernoulliRBM] Iteration 1, pseudo-likelihood = -106.51, time = 2.38s\n",
      "[BernoulliRBM] Iteration 2, pseudo-likelihood = -97.93, time = 2.67s\n",
      "[BernoulliRBM] Iteration 3, pseudo-likelihood = -95.05, time = 2.59s\n",
      "[BernoulliRBM] Iteration 4, pseudo-likelihood = -92.33, time = 2.98s\n",
      "[BernoulliRBM] Iteration 5, pseudo-likelihood = -86.08, time = 3.13s\n",
      "[BernoulliRBM] Iteration 6, pseudo-likelihood = -91.25, time = 2.89s\n",
      "[BernoulliRBM] Iteration 7, pseudo-likelihood = -85.38, time = 2.90s\n",
      "[BernoulliRBM] Iteration 8, pseudo-likelihood = -84.16, time = 2.85s\n",
      "[BernoulliRBM] Iteration 9, pseudo-likelihood = -83.88, time = 2.82s\n",
      "[BernoulliRBM] Iteration 10, pseudo-likelihood = -82.00, time = 2.84s\n",
      "[BernoulliRBM] Iteration 11, pseudo-likelihood = -78.86, time = 2.90s\n",
      "[BernoulliRBM] Iteration 12, pseudo-likelihood = -76.91, time = 2.98s\n",
      "[BernoulliRBM] Iteration 13, pseudo-likelihood = -80.95, time = 3.14s\n",
      "[BernoulliRBM] Iteration 14, pseudo-likelihood = -80.53, time = 3.01s\n",
      "[BernoulliRBM] Iteration 15, pseudo-likelihood = -76.79, time = 2.99s\n",
      "[BernoulliRBM] Iteration 16, pseudo-likelihood = -76.14, time = 2.92s\n",
      "[BernoulliRBM] Iteration 17, pseudo-likelihood = -80.44, time = 2.84s\n",
      "[BernoulliRBM] Iteration 18, pseudo-likelihood = -75.84, time = 2.97s\n",
      "[BernoulliRBM] Iteration 19, pseudo-likelihood = -78.24, time = 2.90s\n",
      "[BernoulliRBM] Iteration 20, pseudo-likelihood = -80.99, time = 2.82s\n",
      "0.9433054131766471\n",
      "{'rbm__n_components': 150, 'rbm__n_iter': 20}\n"
     ]
    },
    {
     "name": "stderr",
     "output_type": "stream",
     "text": [
      "/Users/alisharifara/anaconda3/lib/python3.6/site-packages/sklearn/linear_model/logistic.py:758: ConvergenceWarning: lbfgs failed to converge. Increase the number of iterations.\n",
      "  \"of iterations.\", ConvergenceWarning)\n"
     ]
    }
   ],
   "source": [
    "# to find out the best hyperparameters \n",
    "\n",
    "param_grid = [ \n",
    "               {'rbm__n_components': [5, 50, 100, 150],\n",
    "                'rbm__n_iter': [5, 20]\n",
    "               }\n",
    "             ]\n",
    "\n",
    "grid_search = GridSearchCV(rbm_features_classifier, param_grid, cv=2)\n",
    "grid_search.fit(X_train, y_train)\n",
    "print(grid_search.best_score_)\n",
    "print(grid_search.best_params_)\n",
    "\n",
    "# the following process is called maximum likelihood estimation"
   ]
  },
  {
   "cell_type": "code",
   "execution_count": null,
   "metadata": {},
   "outputs": [],
   "source": []
  }
 ],
 "metadata": {
  "kernelspec": {
   "display_name": "Python 3",
   "language": "python",
   "name": "python3"
  },
  "language_info": {
   "codemirror_mode": {
    "name": "ipython",
    "version": 3
   },
   "file_extension": ".py",
   "mimetype": "text/x-python",
   "name": "python",
   "nbconvert_exporter": "python",
   "pygments_lexer": "ipython3",
   "version": "3.6.8"
  }
 },
 "nbformat": 4,
 "nbformat_minor": 2
}
